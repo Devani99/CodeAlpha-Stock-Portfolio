{
 "cells": [
  {
   "cell_type": "code",
   "execution_count": 1,
   "id": "abd0d837-df9a-4e01-9d04-e52a81102d33",
   "metadata": {},
   "outputs": [],
   "source": [
    "import yfinance as yf\n",
    "import pandas as pd"
   ]
  },
  {
   "cell_type": "code",
   "execution_count": 2,
   "id": "0e313258-150e-45aa-bd13-eb91d0e83f9d",
   "metadata": {},
   "outputs": [
    {
     "name": "stdin",
     "output_type": "stream",
     "text": [
      "Do you want to see your stocks? (Yes/No):  no\n",
      "Do you want to (A)dd or (R)emove a stock? (Q)uit:  a\n",
      "Enter the stock symbol to add:  INTL\n"
     ]
    },
    {
     "name": "stdout",
     "output_type": "stream",
     "text": [
      "Current Portfolio:\n",
      "INTL: $22.50\n",
      "Total Portfolio Value: $22.50\n",
      "Total Portfolio Value: 22.5\n"
     ]
    },
    {
     "name": "stdin",
     "output_type": "stream",
     "text": [
      "Do you want to (A)dd or (R)emove a stock? (Q)uit:  a\n",
      "Enter the stock symbol to add:  AAPL\n"
     ]
    },
    {
     "name": "stdout",
     "output_type": "stream",
     "text": [
      "Current Portfolio:\n",
      "INTL: $22.50\n",
      "AAPL: $213.65\n",
      "Total Portfolio Value: $236.15\n",
      "Total Portfolio Value: 236.15109252929688\n"
     ]
    },
    {
     "name": "stdin",
     "output_type": "stream",
     "text": [
      "Do you want to (A)dd or (R)emove a stock? (Q)uit:  a\n",
      "Enter the stock symbol to add:  GOOG\n"
     ]
    },
    {
     "name": "stdout",
     "output_type": "stream",
     "text": [
      "Current Portfolio:\n",
      "INTL: $22.50\n",
      "AAPL: $213.64\n",
      "GOOG: $185.06\n",
      "Total Portfolio Value: $421.20\n",
      "Total Portfolio Value: 421.1999969482422\n"
     ]
    },
    {
     "name": "stdin",
     "output_type": "stream",
     "text": [
      "Do you want to (A)dd or (R)emove a stock? (Q)uit:  r\n",
      "Enter the stock symbol to remove:  AAPL\n"
     ]
    },
    {
     "name": "stdout",
     "output_type": "stream",
     "text": [
      "Current Portfolio:\n",
      "INTL: $22.50\n",
      "GOOG: $185.06\n",
      "Total Portfolio Value: $207.56\n",
      "Total Portfolio Value: 207.55999755859375\n"
     ]
    },
    {
     "name": "stdin",
     "output_type": "stream",
     "text": [
      "Do you want to (A)dd or (R)emove a stock? (Q)uit:  q\n"
     ]
    },
    {
     "name": "stdout",
     "output_type": "stream",
     "text": [
      "Okay!\n"
     ]
    },
    {
     "name": "stdin",
     "output_type": "stream",
     "text": [
      "Do you want to quit? (Yes/No):  yes\n"
     ]
    },
    {
     "name": "stdout",
     "output_type": "stream",
     "text": [
      "Visit Again!\n"
     ]
    }
   ],
   "source": [
    "class StockPortfolio:\n",
    "    def __init__(self):\n",
    "        self.portfolio = {}\n",
    "\n",
    "    def add_stock(self, symbol):\n",
    "        if symbol.upper() not in self.portfolio:\n",
    "            self.portfolio[symbol.upper()] = yf.Ticker(symbol.upper())\n",
    "\n",
    "    def remove_stock(self, symbol):\n",
    "        if symbol.upper() in self.portfolio:\n",
    "            del self.portfolio[symbol.upper()]\n",
    "        else:\n",
    "            print(\"Stock not found in portfolio.\")\n",
    "\n",
    "    def get_portfolio_data(self):\n",
    "        data = {}\n",
    "        for symbol, stock in self.portfolio.items():\n",
    "            data[symbol] = stock.history(period=\"1d\")[\"Close\"].iloc[-1]\n",
    "        return data\n",
    "\n",
    "    def get_portfolio_value(self):\n",
    "        data = self.get_portfolio_data()\n",
    "        return sum(data.values())\n",
    "\n",
    "    def track_performance(self):\n",
    "        data = self.get_portfolio_data()\n",
    "        print(\"Current Portfolio:\")\n",
    "        for symbol, price in data.items():\n",
    "            print(f\"{symbol}: ${price:.2f}\")\n",
    "\n",
    "        portfolio_value = self.get_portfolio_value()\n",
    "        print(f\"Total Portfolio Value: ${portfolio_value:.2f}\")\n",
    "\n",
    "# Example \n",
    "portfolio = StockPortfolio()\n",
    "\n",
    "while True:\n",
    "    see_stocks = input(\"Do you want to see your stocks? (Yes/No): \").strip().lower()\n",
    "    if see_stocks == 'yes':\n",
    "        portfolio.track_performance()\n",
    "        add_stock_choice = input(\"Do you want to add a stock? (Yes/No): \").strip().lower()\n",
    "        if add_stock_choice == 'yes':\n",
    "            symbol = input(\"Enter the stock symbol to add: \")\n",
    "            portfolio.add_stock(symbol)\n",
    "            portfolio.track_performance()\n",
    "            print(\"Total Portfolio Value:\", portfolio.get_portfolio_value())\n",
    "    elif see_stocks == 'no':\n",
    "        while True:\n",
    "            action = input(\"Do you want to (A)dd or (R)emove a stock? (Q)uit: \").upper()\n",
    "            if action == 'A':\n",
    "                symbol = input(\"Enter the stock symbol to add: \")\n",
    "                portfolio.add_stock(symbol)\n",
    "                portfolio.track_performance()\n",
    "                print(\"Total Portfolio Value:\", portfolio.get_portfolio_value())\n",
    "            elif action == 'R':\n",
    "                symbol = input(\"Enter the stock symbol to remove: \")\n",
    "                portfolio.remove_stock(symbol)\n",
    "                portfolio.track_performance()\n",
    "                print(\"Total Portfolio Value:\", portfolio.get_portfolio_value())\n",
    "            elif action == 'Q':\n",
    "                print(\"Okay!\")\n",
    "                break\n",
    "            else:\n",
    "                print(\"Invalid option. Please choose A, R, or Q.\")\n",
    "    else:\n",
    "        print(\"Invalid input. Please enter Yes or No.\")\n",
    "        continue\n",
    "        \n",
    "    quit_prompt = input(\"Do you want to quit? (Yes/No): \").strip().lower()\n",
    "    if quit_prompt == 'yes':\n",
    "        print(\"Visit Again!\")\n",
    "        break\n",
    "    else:\n",
    "        portfolio.track_performance()\n",
    "        print(\"Total Portfolio Value:\", portfolio.get_portfolio_value())"
   ]
  },
  {
   "cell_type": "code",
   "execution_count": null,
   "id": "8df99a44-c0a8-4ec3-9dcc-448441620b5d",
   "metadata": {},
   "outputs": [],
   "source": []
  }
 ],
 "metadata": {
  "kernelspec": {
   "display_name": "Python 3 (ipykernel)",
   "language": "python",
   "name": "python3"
  },
  "language_info": {
   "codemirror_mode": {
    "name": "ipython",
    "version": 3
   },
   "file_extension": ".py",
   "mimetype": "text/x-python",
   "name": "python",
   "nbconvert_exporter": "python",
   "pygments_lexer": "ipython3",
   "version": "3.12.3"
  }
 },
 "nbformat": 4,
 "nbformat_minor": 5
}
